{
 "cells": [
  {
   "cell_type": "code",
   "execution_count": 1,
   "metadata": {},
   "outputs": [
    {
     "data": {
      "text/html": [
       "<div>\n",
       "<style scoped>\n",
       "    .dataframe tbody tr th:only-of-type {\n",
       "        vertical-align: middle;\n",
       "    }\n",
       "\n",
       "    .dataframe tbody tr th {\n",
       "        vertical-align: top;\n",
       "    }\n",
       "\n",
       "    .dataframe thead th {\n",
       "        text-align: right;\n",
       "    }\n",
       "</style>\n",
       "<table border=\"1\" class=\"dataframe\">\n",
       "  <thead>\n",
       "    <tr style=\"text-align: right;\">\n",
       "      <th></th>\n",
       "      <th>id</th>\n",
       "      <th>date</th>\n",
       "      <th>price</th>\n",
       "      <th>bedrooms</th>\n",
       "      <th>bathrooms</th>\n",
       "      <th>sqft_living</th>\n",
       "      <th>sqft_lot</th>\n",
       "      <th>floors</th>\n",
       "      <th>waterfront</th>\n",
       "      <th>view</th>\n",
       "      <th>...</th>\n",
       "      <th>grade</th>\n",
       "      <th>sqft_above</th>\n",
       "      <th>sqft_basement</th>\n",
       "      <th>yr_built</th>\n",
       "      <th>yr_renovated</th>\n",
       "      <th>zipcode</th>\n",
       "      <th>lat</th>\n",
       "      <th>long</th>\n",
       "      <th>sqft_living15</th>\n",
       "      <th>sqft_lot15</th>\n",
       "    </tr>\n",
       "  </thead>\n",
       "  <tbody>\n",
       "    <tr>\n",
       "      <th>0</th>\n",
       "      <td>7129300520</td>\n",
       "      <td>20141013T000000</td>\n",
       "      <td>221900.0</td>\n",
       "      <td>3</td>\n",
       "      <td>1.00</td>\n",
       "      <td>1180</td>\n",
       "      <td>5650</td>\n",
       "      <td>1.0</td>\n",
       "      <td>0</td>\n",
       "      <td>0</td>\n",
       "      <td>...</td>\n",
       "      <td>7</td>\n",
       "      <td>1180</td>\n",
       "      <td>0</td>\n",
       "      <td>1955</td>\n",
       "      <td>0</td>\n",
       "      <td>98178</td>\n",
       "      <td>47.5112</td>\n",
       "      <td>-122.257</td>\n",
       "      <td>1340</td>\n",
       "      <td>5650</td>\n",
       "    </tr>\n",
       "    <tr>\n",
       "      <th>1</th>\n",
       "      <td>6414100192</td>\n",
       "      <td>20141209T000000</td>\n",
       "      <td>538000.0</td>\n",
       "      <td>3</td>\n",
       "      <td>2.25</td>\n",
       "      <td>2570</td>\n",
       "      <td>7242</td>\n",
       "      <td>2.0</td>\n",
       "      <td>0</td>\n",
       "      <td>0</td>\n",
       "      <td>...</td>\n",
       "      <td>7</td>\n",
       "      <td>2170</td>\n",
       "      <td>400</td>\n",
       "      <td>1951</td>\n",
       "      <td>1991</td>\n",
       "      <td>98125</td>\n",
       "      <td>47.7210</td>\n",
       "      <td>-122.319</td>\n",
       "      <td>1690</td>\n",
       "      <td>7639</td>\n",
       "    </tr>\n",
       "    <tr>\n",
       "      <th>2</th>\n",
       "      <td>5631500400</td>\n",
       "      <td>20150225T000000</td>\n",
       "      <td>180000.0</td>\n",
       "      <td>2</td>\n",
       "      <td>1.00</td>\n",
       "      <td>770</td>\n",
       "      <td>10000</td>\n",
       "      <td>1.0</td>\n",
       "      <td>0</td>\n",
       "      <td>0</td>\n",
       "      <td>...</td>\n",
       "      <td>6</td>\n",
       "      <td>770</td>\n",
       "      <td>0</td>\n",
       "      <td>1933</td>\n",
       "      <td>0</td>\n",
       "      <td>98028</td>\n",
       "      <td>47.7379</td>\n",
       "      <td>-122.233</td>\n",
       "      <td>2720</td>\n",
       "      <td>8062</td>\n",
       "    </tr>\n",
       "    <tr>\n",
       "      <th>3</th>\n",
       "      <td>2487200875</td>\n",
       "      <td>20141209T000000</td>\n",
       "      <td>604000.0</td>\n",
       "      <td>4</td>\n",
       "      <td>3.00</td>\n",
       "      <td>1960</td>\n",
       "      <td>5000</td>\n",
       "      <td>1.0</td>\n",
       "      <td>0</td>\n",
       "      <td>0</td>\n",
       "      <td>...</td>\n",
       "      <td>7</td>\n",
       "      <td>1050</td>\n",
       "      <td>910</td>\n",
       "      <td>1965</td>\n",
       "      <td>0</td>\n",
       "      <td>98136</td>\n",
       "      <td>47.5208</td>\n",
       "      <td>-122.393</td>\n",
       "      <td>1360</td>\n",
       "      <td>5000</td>\n",
       "    </tr>\n",
       "    <tr>\n",
       "      <th>4</th>\n",
       "      <td>1954400510</td>\n",
       "      <td>20150218T000000</td>\n",
       "      <td>510000.0</td>\n",
       "      <td>3</td>\n",
       "      <td>2.00</td>\n",
       "      <td>1680</td>\n",
       "      <td>8080</td>\n",
       "      <td>1.0</td>\n",
       "      <td>0</td>\n",
       "      <td>0</td>\n",
       "      <td>...</td>\n",
       "      <td>8</td>\n",
       "      <td>1680</td>\n",
       "      <td>0</td>\n",
       "      <td>1987</td>\n",
       "      <td>0</td>\n",
       "      <td>98074</td>\n",
       "      <td>47.6168</td>\n",
       "      <td>-122.045</td>\n",
       "      <td>1800</td>\n",
       "      <td>7503</td>\n",
       "    </tr>\n",
       "  </tbody>\n",
       "</table>\n",
       "<p>5 rows × 21 columns</p>\n",
       "</div>"
      ],
      "text/plain": [
       "           id             date     price  bedrooms  bathrooms  sqft_living  \\\n",
       "0  7129300520  20141013T000000  221900.0         3       1.00         1180   \n",
       "1  6414100192  20141209T000000  538000.0         3       2.25         2570   \n",
       "2  5631500400  20150225T000000  180000.0         2       1.00          770   \n",
       "3  2487200875  20141209T000000  604000.0         4       3.00         1960   \n",
       "4  1954400510  20150218T000000  510000.0         3       2.00         1680   \n",
       "\n",
       "   sqft_lot  floors  waterfront  view  ...  grade  sqft_above  sqft_basement  \\\n",
       "0      5650     1.0           0     0  ...      7        1180              0   \n",
       "1      7242     2.0           0     0  ...      7        2170            400   \n",
       "2     10000     1.0           0     0  ...      6         770              0   \n",
       "3      5000     1.0           0     0  ...      7        1050            910   \n",
       "4      8080     1.0           0     0  ...      8        1680              0   \n",
       "\n",
       "   yr_built  yr_renovated  zipcode      lat     long  sqft_living15  \\\n",
       "0      1955             0    98178  47.5112 -122.257           1340   \n",
       "1      1951          1991    98125  47.7210 -122.319           1690   \n",
       "2      1933             0    98028  47.7379 -122.233           2720   \n",
       "3      1965             0    98136  47.5208 -122.393           1360   \n",
       "4      1987             0    98074  47.6168 -122.045           1800   \n",
       "\n",
       "   sqft_lot15  \n",
       "0        5650  \n",
       "1        7639  \n",
       "2        8062  \n",
       "3        5000  \n",
       "4        7503  \n",
       "\n",
       "[5 rows x 21 columns]"
      ]
     },
     "execution_count": 1,
     "metadata": {},
     "output_type": "execute_result"
    }
   ],
   "source": [
    "import pandas as pd\n",
    "base = pd.read_csv('house_prices.csv')\n",
    "base.head()"
   ]
  },
  {
   "cell_type": "code",
   "execution_count": 2,
   "metadata": {},
   "outputs": [
    {
     "data": {
      "text/plain": [
       "(21613, 21)"
      ]
     },
     "execution_count": 2,
     "metadata": {},
     "output_type": "execute_result"
    }
   ],
   "source": [
    "base.shape"
   ]
  },
  {
   "cell_type": "code",
   "execution_count": 3,
   "metadata": {},
   "outputs": [],
   "source": [
    "X = base.iloc[:, 5:6].values\n",
    "y = base.iloc[:, 2:3].values"
   ]
  },
  {
   "cell_type": "code",
   "execution_count": 4,
   "metadata": {},
   "outputs": [
    {
     "data": {
      "text/plain": [
       "array([[1180],\n",
       "       [2570],\n",
       "       [ 770],\n",
       "       ...,\n",
       "       [1020],\n",
       "       [1600],\n",
       "       [1020]])"
      ]
     },
     "execution_count": 4,
     "metadata": {},
     "output_type": "execute_result"
    }
   ],
   "source": [
    "X"
   ]
  },
  {
   "cell_type": "code",
   "execution_count": 5,
   "metadata": {},
   "outputs": [
    {
     "data": {
      "text/plain": [
       "array([[221900.],\n",
       "       [538000.],\n",
       "       [180000.],\n",
       "       ...,\n",
       "       [402101.],\n",
       "       [400000.],\n",
       "       [325000.]])"
      ]
     },
     "execution_count": 5,
     "metadata": {},
     "output_type": "execute_result"
    }
   ],
   "source": [
    "y"
   ]
  },
  {
   "cell_type": "code",
   "execution_count": 6,
   "metadata": {},
   "outputs": [],
   "source": [
    "from sklearn.preprocessing import StandardScaler\n",
    "scaler_x = StandardScaler()\n",
    "X = scaler_x.fit_transform(X)\n",
    "scaler_y = StandardScaler()\n",
    "y = scaler_y.fit_transform(y)"
   ]
  },
  {
   "cell_type": "code",
   "execution_count": 7,
   "metadata": {},
   "outputs": [
    {
     "data": {
      "text/plain": [
       "array([[-0.97983502],\n",
       "       [ 0.53363434],\n",
       "       [-1.42625404],\n",
       "       ...,\n",
       "       [-1.15404732],\n",
       "       [-0.52252773],\n",
       "       [-1.15404732]])"
      ]
     },
     "execution_count": 7,
     "metadata": {},
     "output_type": "execute_result"
    }
   ],
   "source": [
    "X"
   ]
  },
  {
   "cell_type": "code",
   "execution_count": 8,
   "metadata": {},
   "outputs": [
    {
     "data": {
      "text/plain": [
       "array([[-0.86671733],\n",
       "       [-0.00568792],\n",
       "       [-0.98084935],\n",
       "       ...,\n",
       "       [-0.37586519],\n",
       "       [-0.38158814],\n",
       "       [-0.58588173]])"
      ]
     },
     "execution_count": 8,
     "metadata": {},
     "output_type": "execute_result"
    }
   ],
   "source": [
    "y"
   ]
  },
  {
   "cell_type": "code",
   "execution_count": 9,
   "metadata": {},
   "outputs": [
    {
     "name": "stdout",
     "output_type": "stream",
     "text": [
      "WARNING:tensorflow:From /home/juda/anaconda3/lib/python3.7/site-packages/tensorflow/python/compat/v2_compat.py:96: disable_resource_variables (from tensorflow.python.ops.variable_scope) is deprecated and will be removed in a future version.\n",
      "Instructions for updating:\n",
      "non-resource variables are not supported in the long term\n"
     ]
    }
   ],
   "source": [
    "import tensorflow.compat.v1 as tf\n",
    "tf.disable_v2_behavior()"
   ]
  },
  {
   "cell_type": "code",
   "execution_count": 10,
   "metadata": {},
   "outputs": [],
   "source": [
    "colunas = [tf.feature_column.numeric_column('x', shape = [1])]"
   ]
  },
  {
   "cell_type": "code",
   "execution_count": 11,
   "metadata": {},
   "outputs": [
    {
     "data": {
      "text/plain": [
       "[NumericColumn(key='x', shape=(1,), default_value=None, dtype=tf.float32, normalizer_fn=None)]"
      ]
     },
     "execution_count": 11,
     "metadata": {},
     "output_type": "execute_result"
    }
   ],
   "source": [
    "colunas"
   ]
  },
  {
   "cell_type": "code",
   "execution_count": 12,
   "metadata": {},
   "outputs": [
    {
     "name": "stdout",
     "output_type": "stream",
     "text": [
      "INFO:tensorflow:Using default config.\n",
      "WARNING:tensorflow:Using temporary folder as model directory: /tmp/tmpv64ry3dc\n",
      "INFO:tensorflow:Using config: {'_model_dir': '/tmp/tmpv64ry3dc', '_tf_random_seed': None, '_save_summary_steps': 100, '_save_checkpoints_steps': None, '_save_checkpoints_secs': 600, '_session_config': allow_soft_placement: true\n",
      "graph_options {\n",
      "  rewrite_options {\n",
      "    meta_optimizer_iterations: ONE\n",
      "  }\n",
      "}\n",
      ", '_keep_checkpoint_max': 5, '_keep_checkpoint_every_n_hours': 10000, '_log_step_count_steps': 100, '_train_distribute': None, '_device_fn': None, '_protocol': None, '_eval_distribute': None, '_experimental_distribute': None, '_experimental_max_worker_delay_secs': None, '_session_creation_timeout_secs': 7200, '_service': None, '_cluster_spec': ClusterSpec({}), '_task_type': 'worker', '_task_id': 0, '_global_id_in_cluster': 0, '_master': '', '_evaluation_master': '', '_is_chief': True, '_num_ps_replicas': 0, '_num_worker_replicas': 1}\n"
     ]
    }
   ],
   "source": [
    "regressor = tf.estimator.LinearRegressor(feature_columns=colunas)"
   ]
  },
  {
   "cell_type": "code",
   "execution_count": 13,
   "metadata": {},
   "outputs": [],
   "source": [
    "from sklearn.model_selection import train_test_split\n",
    "X_treinamento, X_teste, y_treinamento, y_teste = train_test_split(X, y, test_size = 0.3)"
   ]
  },
  {
   "cell_type": "code",
   "execution_count": 14,
   "metadata": {},
   "outputs": [
    {
     "data": {
      "text/plain": [
       "(15129, 1)"
      ]
     },
     "execution_count": 14,
     "metadata": {},
     "output_type": "execute_result"
    }
   ],
   "source": [
    "X_treinamento.shape"
   ]
  },
  {
   "cell_type": "code",
   "execution_count": 15,
   "metadata": {},
   "outputs": [
    {
     "data": {
      "text/plain": [
       "(15129, 1)"
      ]
     },
     "execution_count": 15,
     "metadata": {},
     "output_type": "execute_result"
    }
   ],
   "source": [
    "y_treinamento.shape"
   ]
  },
  {
   "cell_type": "code",
   "execution_count": 16,
   "metadata": {},
   "outputs": [
    {
     "data": {
      "text/plain": [
       "(6484, 1)"
      ]
     },
     "execution_count": 16,
     "metadata": {},
     "output_type": "execute_result"
    }
   ],
   "source": [
    "X_teste.shape"
   ]
  },
  {
   "cell_type": "code",
   "execution_count": 17,
   "metadata": {},
   "outputs": [
    {
     "data": {
      "text/plain": [
       "(6484, 1)"
      ]
     },
     "execution_count": 17,
     "metadata": {},
     "output_type": "execute_result"
    }
   ],
   "source": [
    "y_teste.shape"
   ]
  },
  {
   "cell_type": "code",
   "execution_count": 18,
   "metadata": {},
   "outputs": [],
   "source": [
    "funcao_treinamento = tf.estimator.inputs.numpy_input_fn({'x': X_treinamento}, y_treinamento,\n",
    "                                                        batch_size = 32, num_epochs = None, \n",
    "                                                        shuffle = True)"
   ]
  },
  {
   "cell_type": "code",
   "execution_count": 19,
   "metadata": {},
   "outputs": [],
   "source": [
    "funcao_teste = tf.estimator.inputs.numpy_input_fn({'x': X_teste}, y_teste, batch_size = 32, \n",
    "                                                  num_epochs = 1000, shuffle = False)"
   ]
  },
  {
   "cell_type": "code",
   "execution_count": 20,
   "metadata": {},
   "outputs": [
    {
     "name": "stdout",
     "output_type": "stream",
     "text": [
      "WARNING:tensorflow:From /home/juda/anaconda3/lib/python3.7/site-packages/tensorflow/python/training/training_util.py:236: Variable.initialized_value (from tensorflow.python.ops.variables) is deprecated and will be removed in a future version.\n",
      "Instructions for updating:\n",
      "Use Variable.read_value. Variables in 2.X are initialized automatically both in eager and graph (inside tf.defun) contexts.\n",
      "WARNING:tensorflow:From /home/juda/anaconda3/lib/python3.7/site-packages/tensorflow_estimator/python/estimator/inputs/queues/feeding_queue_runner.py:65: QueueRunner.__init__ (from tensorflow.python.training.queue_runner_impl) is deprecated and will be removed in a future version.\n",
      "Instructions for updating:\n",
      "To construct input pipelines, use the `tf.data` module.\n",
      "WARNING:tensorflow:From /home/juda/anaconda3/lib/python3.7/site-packages/tensorflow_estimator/python/estimator/inputs/queues/feeding_functions.py:491: add_queue_runner (from tensorflow.python.training.queue_runner_impl) is deprecated and will be removed in a future version.\n",
      "Instructions for updating:\n",
      "To construct input pipelines, use the `tf.data` module.\n",
      "INFO:tensorflow:Calling model_fn.\n",
      "WARNING:tensorflow:From /home/juda/anaconda3/lib/python3.7/site-packages/tensorflow/python/ops/resource_variable_ops.py:1666: calling BaseResourceVariable.__init__ (from tensorflow.python.ops.resource_variable_ops) with constraint is deprecated and will be removed in a future version.\n",
      "Instructions for updating:\n",
      "If using Keras pass *_constraint arguments to layers.\n",
      "WARNING:tensorflow:From /home/juda/anaconda3/lib/python3.7/site-packages/tensorflow/python/feature_column/feature_column_v2.py:540: Layer.add_variable (from tensorflow.python.keras.engine.base_layer_v1) is deprecated and will be removed in a future version.\n",
      "Instructions for updating:\n",
      "Please use `layer.add_weight` method instead.\n",
      "INFO:tensorflow:Done calling model_fn.\n",
      "INFO:tensorflow:Create CheckpointSaverHook.\n",
      "INFO:tensorflow:Graph was finalized.\n",
      "INFO:tensorflow:Running local_init_op.\n",
      "INFO:tensorflow:Done running local_init_op.\n",
      "WARNING:tensorflow:From /home/juda/anaconda3/lib/python3.7/site-packages/tensorflow/python/training/monitored_session.py:906: start_queue_runners (from tensorflow.python.training.queue_runner_impl) is deprecated and will be removed in a future version.\n",
      "Instructions for updating:\n",
      "To construct input pipelines, use the `tf.data` module.\n",
      "INFO:tensorflow:Calling checkpoint listeners before saving checkpoint 0...\n",
      "INFO:tensorflow:Saving checkpoints for 0 into /tmp/tmpv64ry3dc/model.ckpt.\n",
      "INFO:tensorflow:Calling checkpoint listeners after saving checkpoint 0...\n",
      "INFO:tensorflow:loss = 7.330347, step = 1\n",
      "INFO:tensorflow:global_step/sec: 503.737\n",
      "INFO:tensorflow:loss = 27.119055, step = 101 (0.200 sec)\n",
      "INFO:tensorflow:global_step/sec: 585.06\n",
      "INFO:tensorflow:loss = 31.826786, step = 201 (0.172 sec)\n",
      "WARNING:tensorflow:It seems that global step (tf.train.get_global_step) has not been increased. Current value (could be stable): 228 vs previous value: 228. You could increase the global step by passing tf.train.get_global_step() to Optimizer.apply_gradients or Optimizer.minimize.\n",
      "INFO:tensorflow:global_step/sec: 591.285\n",
      "INFO:tensorflow:loss = 5.6946154, step = 301 (0.168 sec)\n",
      "INFO:tensorflow:global_step/sec: 575.38\n",
      "INFO:tensorflow:loss = 25.488434, step = 401 (0.176 sec)\n",
      "WARNING:tensorflow:It seems that global step (tf.train.get_global_step) has not been increased. Current value (could be stable): 418 vs previous value: 418. You could increase the global step by passing tf.train.get_global_step() to Optimizer.apply_gradients or Optimizer.minimize.\n",
      "INFO:tensorflow:global_step/sec: 543.016\n",
      "INFO:tensorflow:loss = 9.602043, step = 501 (0.184 sec)\n",
      "INFO:tensorflow:global_step/sec: 586.323\n",
      "INFO:tensorflow:loss = 23.210508, step = 601 (0.169 sec)\n",
      "INFO:tensorflow:global_step/sec: 638.402\n",
      "INFO:tensorflow:loss = 13.791972, step = 701 (0.158 sec)\n",
      "INFO:tensorflow:global_step/sec: 604.511\n",
      "INFO:tensorflow:loss = 9.19756, step = 801 (0.164 sec)\n",
      "INFO:tensorflow:global_step/sec: 623.215\n",
      "INFO:tensorflow:loss = 9.205983, step = 901 (0.160 sec)\n",
      "INFO:tensorflow:global_step/sec: 591.658\n",
      "INFO:tensorflow:loss = 8.930536, step = 1001 (0.169 sec)\n",
      "INFO:tensorflow:global_step/sec: 629.546\n",
      "INFO:tensorflow:loss = 34.229797, step = 1101 (0.159 sec)\n",
      "INFO:tensorflow:global_step/sec: 627.676\n",
      "INFO:tensorflow:loss = 8.807915, step = 1201 (0.160 sec)\n",
      "INFO:tensorflow:global_step/sec: 581.12\n",
      "INFO:tensorflow:loss = 12.171942, step = 1301 (0.173 sec)\n",
      "INFO:tensorflow:global_step/sec: 605.923\n",
      "INFO:tensorflow:loss = 7.2171965, step = 1401 (0.165 sec)\n",
      "INFO:tensorflow:global_step/sec: 593.147\n",
      "INFO:tensorflow:loss = 12.617018, step = 1501 (0.167 sec)\n",
      "INFO:tensorflow:global_step/sec: 610.741\n",
      "INFO:tensorflow:loss = 22.410877, step = 1601 (0.166 sec)\n",
      "INFO:tensorflow:global_step/sec: 578.993\n",
      "INFO:tensorflow:loss = 7.192773, step = 1701 (0.171 sec)\n",
      "INFO:tensorflow:global_step/sec: 564.281\n",
      "INFO:tensorflow:loss = 9.03899, step = 1801 (0.178 sec)\n",
      "INFO:tensorflow:global_step/sec: 523.506\n",
      "INFO:tensorflow:loss = 23.658243, step = 1901 (0.191 sec)\n",
      "WARNING:tensorflow:It seems that global step (tf.train.get_global_step) has not been increased. Current value (could be stable): 1913 vs previous value: 1913. You could increase the global step by passing tf.train.get_global_step() to Optimizer.apply_gradients or Optimizer.minimize.\n",
      "WARNING:tensorflow:It seems that global step (tf.train.get_global_step) has not been increased. Current value (could be stable): 1920 vs previous value: 1920. You could increase the global step by passing tf.train.get_global_step() to Optimizer.apply_gradients or Optimizer.minimize.\n",
      "INFO:tensorflow:global_step/sec: 550.138\n",
      "INFO:tensorflow:loss = 23.862598, step = 2001 (0.184 sec)\n",
      "WARNING:tensorflow:It seems that global step (tf.train.get_global_step) has not been increased. Current value (could be stable): 2007 vs previous value: 2007. You could increase the global step by passing tf.train.get_global_step() to Optimizer.apply_gradients or Optimizer.minimize.\n",
      "INFO:tensorflow:global_step/sec: 569.541\n",
      "INFO:tensorflow:loss = 8.033759, step = 2101 (0.175 sec)\n",
      "INFO:tensorflow:global_step/sec: 586.61\n",
      "INFO:tensorflow:loss = 19.25695, step = 2201 (0.169 sec)\n",
      "INFO:tensorflow:global_step/sec: 612.042\n",
      "INFO:tensorflow:loss = 22.850388, step = 2301 (0.163 sec)\n",
      "INFO:tensorflow:global_step/sec: 573.514\n",
      "INFO:tensorflow:loss = 8.836558, step = 2401 (0.177 sec)\n",
      "INFO:tensorflow:global_step/sec: 549.027\n",
      "INFO:tensorflow:loss = 8.305462, step = 2501 (0.182 sec)\n",
      "INFO:tensorflow:global_step/sec: 512.578\n",
      "INFO:tensorflow:loss = 11.422264, step = 2601 (0.192 sec)\n",
      "INFO:tensorflow:global_step/sec: 592.696\n",
      "INFO:tensorflow:loss = 22.000319, step = 2701 (0.169 sec)\n",
      "INFO:tensorflow:global_step/sec: 618.119\n",
      "INFO:tensorflow:loss = 16.043165, step = 2801 (0.164 sec)\n",
      "INFO:tensorflow:global_step/sec: 611.891\n",
      "INFO:tensorflow:loss = 18.73996, step = 2901 (0.161 sec)\n",
      "INFO:tensorflow:global_step/sec: 637.709\n",
      "INFO:tensorflow:loss = 6.7689323, step = 3001 (0.157 sec)\n",
      "INFO:tensorflow:global_step/sec: 582.177\n",
      "INFO:tensorflow:loss = 17.871872, step = 3101 (0.172 sec)\n",
      "INFO:tensorflow:global_step/sec: 577.474\n",
      "INFO:tensorflow:loss = 11.83441, step = 3201 (0.173 sec)\n",
      "INFO:tensorflow:global_step/sec: 560.566\n",
      "INFO:tensorflow:loss = 11.796192, step = 3301 (0.179 sec)\n",
      "INFO:tensorflow:global_step/sec: 560.261\n",
      "INFO:tensorflow:loss = 13.120005, step = 3401 (0.181 sec)\n",
      "INFO:tensorflow:global_step/sec: 550.736\n",
      "INFO:tensorflow:loss = 6.0606647, step = 3501 (0.179 sec)\n",
      "INFO:tensorflow:global_step/sec: 613.914\n",
      "INFO:tensorflow:loss = 8.792308, step = 3601 (0.162 sec)\n",
      "INFO:tensorflow:global_step/sec: 635.419\n",
      "INFO:tensorflow:loss = 4.9901648, step = 3701 (0.157 sec)\n",
      "INFO:tensorflow:global_step/sec: 624.259\n",
      "INFO:tensorflow:loss = 8.320274, step = 3801 (0.161 sec)\n",
      "INFO:tensorflow:global_step/sec: 615.856\n",
      "INFO:tensorflow:loss = 12.574226, step = 3901 (0.164 sec)\n",
      "INFO:tensorflow:global_step/sec: 611.32\n",
      "INFO:tensorflow:loss = 29.517807, step = 4001 (0.161 sec)\n",
      "INFO:tensorflow:global_step/sec: 579.735\n",
      "INFO:tensorflow:loss = 17.312012, step = 4101 (0.175 sec)\n",
      "INFO:tensorflow:global_step/sec: 573.336\n",
      "INFO:tensorflow:loss = 6.455758, step = 4201 (0.172 sec)\n"
     ]
    },
    {
     "name": "stdout",
     "output_type": "stream",
     "text": [
      "INFO:tensorflow:global_step/sec: 596.033\n",
      "INFO:tensorflow:loss = 6.6337695, step = 4301 (0.168 sec)\n",
      "INFO:tensorflow:global_step/sec: 577.642\n",
      "INFO:tensorflow:loss = 20.205534, step = 4401 (0.173 sec)\n",
      "INFO:tensorflow:global_step/sec: 601.274\n",
      "INFO:tensorflow:loss = 18.768562, step = 4501 (0.169 sec)\n",
      "INFO:tensorflow:global_step/sec: 589.175\n",
      "INFO:tensorflow:loss = 12.330011, step = 4601 (0.167 sec)\n",
      "INFO:tensorflow:global_step/sec: 579.305\n",
      "INFO:tensorflow:loss = 19.762886, step = 4701 (0.175 sec)\n",
      "INFO:tensorflow:global_step/sec: 574.123\n",
      "INFO:tensorflow:loss = 34.163136, step = 4801 (0.171 sec)\n",
      "INFO:tensorflow:global_step/sec: 580.265\n",
      "INFO:tensorflow:loss = 23.338705, step = 4901 (0.173 sec)\n",
      "INFO:tensorflow:global_step/sec: 600.239\n",
      "INFO:tensorflow:loss = 13.853572, step = 5001 (0.166 sec)\n",
      "INFO:tensorflow:global_step/sec: 610.729\n",
      "INFO:tensorflow:loss = 61.825138, step = 5101 (0.164 sec)\n",
      "INFO:tensorflow:global_step/sec: 575.91\n",
      "INFO:tensorflow:loss = 10.646137, step = 5201 (0.174 sec)\n",
      "INFO:tensorflow:global_step/sec: 615.238\n",
      "INFO:tensorflow:loss = 8.871689, step = 5301 (0.163 sec)\n",
      "INFO:tensorflow:global_step/sec: 591.258\n",
      "INFO:tensorflow:loss = 23.167126, step = 5401 (0.169 sec)\n",
      "INFO:tensorflow:global_step/sec: 596.449\n",
      "INFO:tensorflow:loss = 12.109656, step = 5501 (0.170 sec)\n",
      "INFO:tensorflow:global_step/sec: 572.002\n",
      "INFO:tensorflow:loss = 6.7125196, step = 5601 (0.173 sec)\n",
      "INFO:tensorflow:global_step/sec: 587.285\n",
      "INFO:tensorflow:loss = 14.973906, step = 5701 (0.170 sec)\n",
      "INFO:tensorflow:global_step/sec: 578.714\n",
      "INFO:tensorflow:loss = 10.623417, step = 5801 (0.173 sec)\n",
      "INFO:tensorflow:global_step/sec: 505.467\n",
      "INFO:tensorflow:loss = 11.606272, step = 5901 (0.198 sec)\n",
      "INFO:tensorflow:global_step/sec: 528.351\n",
      "INFO:tensorflow:loss = 8.54434, step = 6001 (0.189 sec)\n",
      "INFO:tensorflow:global_step/sec: 558.641\n",
      "INFO:tensorflow:loss = 15.398174, step = 6101 (0.179 sec)\n",
      "INFO:tensorflow:global_step/sec: 536.202\n",
      "INFO:tensorflow:loss = 49.02862, step = 6201 (0.187 sec)\n",
      "INFO:tensorflow:global_step/sec: 601.263\n",
      "INFO:tensorflow:loss = 16.767, step = 6301 (0.166 sec)\n",
      "INFO:tensorflow:global_step/sec: 611.919\n",
      "INFO:tensorflow:loss = 10.329912, step = 6401 (0.163 sec)\n",
      "INFO:tensorflow:global_step/sec: 568.265\n",
      "INFO:tensorflow:loss = 7.163936, step = 6501 (0.176 sec)\n",
      "INFO:tensorflow:global_step/sec: 622.652\n",
      "INFO:tensorflow:loss = 8.552942, step = 6601 (0.165 sec)\n",
      "INFO:tensorflow:global_step/sec: 570.92\n",
      "INFO:tensorflow:loss = 12.724977, step = 6701 (0.173 sec)\n",
      "INFO:tensorflow:global_step/sec: 545.137\n",
      "INFO:tensorflow:loss = 38.685516, step = 6801 (0.182 sec)\n",
      "INFO:tensorflow:global_step/sec: 549.63\n",
      "INFO:tensorflow:loss = 12.979863, step = 6901 (0.182 sec)\n",
      "INFO:tensorflow:global_step/sec: 577.16\n",
      "INFO:tensorflow:loss = 17.193987, step = 7001 (0.173 sec)\n",
      "INFO:tensorflow:global_step/sec: 668.637\n",
      "INFO:tensorflow:loss = 16.787228, step = 7101 (0.150 sec)\n",
      "INFO:tensorflow:global_step/sec: 606.259\n",
      "INFO:tensorflow:loss = 32.35117, step = 7201 (0.165 sec)\n",
      "INFO:tensorflow:global_step/sec: 562.148\n",
      "INFO:tensorflow:loss = 5.340803, step = 7301 (0.182 sec)\n",
      "INFO:tensorflow:global_step/sec: 548.187\n",
      "INFO:tensorflow:loss = 6.551665, step = 7401 (0.181 sec)\n",
      "INFO:tensorflow:global_step/sec: 568.62\n",
      "INFO:tensorflow:loss = 10.025774, step = 7501 (0.173 sec)\n",
      "INFO:tensorflow:global_step/sec: 607.515\n",
      "INFO:tensorflow:loss = 37.915886, step = 7601 (0.164 sec)\n",
      "INFO:tensorflow:global_step/sec: 525.041\n",
      "INFO:tensorflow:loss = 21.614382, step = 7701 (0.190 sec)\n",
      "INFO:tensorflow:global_step/sec: 550.786\n",
      "INFO:tensorflow:loss = 10.867281, step = 7801 (0.184 sec)\n",
      "INFO:tensorflow:global_step/sec: 566.414\n",
      "INFO:tensorflow:loss = 15.05656, step = 7901 (0.177 sec)\n",
      "INFO:tensorflow:global_step/sec: 603.119\n",
      "INFO:tensorflow:loss = 8.095839, step = 8001 (0.164 sec)\n",
      "INFO:tensorflow:global_step/sec: 553.27\n",
      "INFO:tensorflow:loss = 7.508205, step = 8101 (0.180 sec)\n",
      "INFO:tensorflow:global_step/sec: 589.973\n",
      "INFO:tensorflow:loss = 14.697662, step = 8201 (0.169 sec)\n",
      "INFO:tensorflow:global_step/sec: 578.394\n",
      "INFO:tensorflow:loss = 11.9555, step = 8301 (0.173 sec)\n",
      "INFO:tensorflow:global_step/sec: 640.368\n",
      "INFO:tensorflow:loss = 5.91276, step = 8401 (0.156 sec)\n",
      "INFO:tensorflow:global_step/sec: 642.09\n",
      "INFO:tensorflow:loss = 50.734856, step = 8501 (0.158 sec)\n",
      "INFO:tensorflow:global_step/sec: 538.828\n",
      "INFO:tensorflow:loss = 14.902899, step = 8601 (0.184 sec)\n",
      "INFO:tensorflow:global_step/sec: 619.882\n",
      "INFO:tensorflow:loss = 14.322895, step = 8701 (0.161 sec)\n",
      "INFO:tensorflow:global_step/sec: 560.759\n",
      "INFO:tensorflow:loss = 39.82622, step = 8801 (0.178 sec)\n",
      "INFO:tensorflow:global_step/sec: 563.331\n",
      "INFO:tensorflow:loss = 14.493734, step = 8901 (0.178 sec)\n",
      "INFO:tensorflow:global_step/sec: 524.655\n",
      "INFO:tensorflow:loss = 19.53402, step = 9001 (0.190 sec)\n",
      "INFO:tensorflow:global_step/sec: 628.819\n",
      "INFO:tensorflow:loss = 14.807167, step = 9101 (0.161 sec)\n",
      "INFO:tensorflow:global_step/sec: 611.437\n",
      "INFO:tensorflow:loss = 6.2205286, step = 9201 (0.162 sec)\n",
      "INFO:tensorflow:global_step/sec: 585.522\n",
      "INFO:tensorflow:loss = 25.859535, step = 9301 (0.172 sec)\n",
      "INFO:tensorflow:global_step/sec: 559.339\n",
      "INFO:tensorflow:loss = 12.23829, step = 9401 (0.178 sec)\n",
      "INFO:tensorflow:global_step/sec: 560.875\n",
      "INFO:tensorflow:loss = 18.4631, step = 9501 (0.180 sec)\n",
      "INFO:tensorflow:global_step/sec: 576.435\n",
      "INFO:tensorflow:loss = 21.063313, step = 9601 (0.173 sec)\n",
      "INFO:tensorflow:global_step/sec: 619.017\n",
      "INFO:tensorflow:loss = 17.07732, step = 9701 (0.160 sec)\n",
      "INFO:tensorflow:global_step/sec: 609.302\n",
      "INFO:tensorflow:loss = 20.875301, step = 9801 (0.164 sec)\n",
      "INFO:tensorflow:global_step/sec: 599.942\n",
      "INFO:tensorflow:loss = 10.219853, step = 9901 (0.166 sec)\n",
      "INFO:tensorflow:Calling checkpoint listeners before saving checkpoint 10000...\n",
      "INFO:tensorflow:Saving checkpoints for 10000 into /tmp/tmpv64ry3dc/model.ckpt.\n",
      "INFO:tensorflow:Calling checkpoint listeners after saving checkpoint 10000...\n",
      "INFO:tensorflow:Loss for final step: 8.775435.\n"
     ]
    },
    {
     "data": {
      "text/plain": [
       "<tensorflow_estimator.python.estimator.canned.linear.LinearRegressor at 0x7fc859080350>"
      ]
     },
     "execution_count": 20,
     "metadata": {},
     "output_type": "execute_result"
    }
   ],
   "source": [
    "regressor.train(input_fn = funcao_treinamento, steps = 10000)"
   ]
  },
  {
   "cell_type": "code",
   "execution_count": 21,
   "metadata": {},
   "outputs": [
    {
     "name": "stdout",
     "output_type": "stream",
     "text": [
      "INFO:tensorflow:Calling model_fn.\n",
      "INFO:tensorflow:Done calling model_fn.\n",
      "INFO:tensorflow:Starting evaluation at 2020-08-06T16:36:53Z\n",
      "INFO:tensorflow:Graph was finalized.\n",
      "INFO:tensorflow:Restoring parameters from /tmp/tmpv64ry3dc/model.ckpt-10000\n",
      "INFO:tensorflow:Running local_init_op.\n",
      "INFO:tensorflow:Done running local_init_op.\n",
      "INFO:tensorflow:Evaluation [1000/10000]\n",
      "INFO:tensorflow:Evaluation [2000/10000]\n",
      "INFO:tensorflow:Evaluation [3000/10000]\n",
      "INFO:tensorflow:Evaluation [4000/10000]\n",
      "INFO:tensorflow:Evaluation [5000/10000]\n",
      "INFO:tensorflow:Evaluation [6000/10000]\n",
      "INFO:tensorflow:Evaluation [7000/10000]\n",
      "INFO:tensorflow:Evaluation [8000/10000]\n",
      "INFO:tensorflow:Evaluation [9000/10000]\n",
      "INFO:tensorflow:Evaluation [10000/10000]\n",
      "INFO:tensorflow:Inference Time : 14.37469s\n",
      "INFO:tensorflow:Finished evaluation at 2020-08-06-16:37:08\n",
      "INFO:tensorflow:Saving dict for global step 10000: average_loss = 0.5006065, global_step = 10000, label/mean = 0.0013603412, loss = 16.019407, prediction/mean = -0.017290212\n",
      "INFO:tensorflow:Saving 'checkpoint_path' summary for global step 10000: /tmp/tmpv64ry3dc/model.ckpt-10000\n"
     ]
    }
   ],
   "source": [
    "metricas_treinamento = regressor.evaluate(input_fn = funcao_treinamento, steps = 10000)"
   ]
  },
  {
   "cell_type": "code",
   "execution_count": 22,
   "metadata": {},
   "outputs": [
    {
     "name": "stdout",
     "output_type": "stream",
     "text": [
      "INFO:tensorflow:Calling model_fn.\n",
      "INFO:tensorflow:Done calling model_fn.\n",
      "INFO:tensorflow:Starting evaluation at 2020-08-06T16:37:14Z\n",
      "INFO:tensorflow:Graph was finalized.\n",
      "INFO:tensorflow:Restoring parameters from /tmp/tmpv64ry3dc/model.ckpt-10000\n",
      "INFO:tensorflow:Running local_init_op.\n",
      "INFO:tensorflow:Done running local_init_op.\n",
      "INFO:tensorflow:Evaluation [1000/10000]\n",
      "INFO:tensorflow:Evaluation [2000/10000]\n",
      "INFO:tensorflow:Evaluation [3000/10000]\n",
      "INFO:tensorflow:Evaluation [4000/10000]\n",
      "INFO:tensorflow:Evaluation [5000/10000]\n",
      "INFO:tensorflow:Evaluation [6000/10000]\n",
      "INFO:tensorflow:Evaluation [7000/10000]\n",
      "INFO:tensorflow:Evaluation [8000/10000]\n",
      "INFO:tensorflow:Evaluation [9000/10000]\n",
      "INFO:tensorflow:Evaluation [10000/10000]\n",
      "INFO:tensorflow:Inference Time : 14.87418s\n",
      "INFO:tensorflow:Finished evaluation at 2020-08-06-16:37:29\n",
      "INFO:tensorflow:Saving dict for global step 10000: average_loss = 0.5242324, global_step = 10000, label/mean = -0.003160183, loss = 16.775436, prediction/mean = -0.019450217\n",
      "INFO:tensorflow:Saving 'checkpoint_path' summary for global step 10000: /tmp/tmpv64ry3dc/model.ckpt-10000\n"
     ]
    }
   ],
   "source": [
    "metricas_teste = regressor.evaluate(input_fn = funcao_teste, steps = 10000)"
   ]
  },
  {
   "cell_type": "code",
   "execution_count": 23,
   "metadata": {},
   "outputs": [
    {
     "data": {
      "text/plain": [
       "{'average_loss': 0.5006065,\n",
       " 'label/mean': 0.0013603412,\n",
       " 'loss': 16.019407,\n",
       " 'prediction/mean': -0.017290212,\n",
       " 'global_step': 10000}"
      ]
     },
     "execution_count": 23,
     "metadata": {},
     "output_type": "execute_result"
    }
   ],
   "source": [
    "metricas_treinamento"
   ]
  },
  {
   "cell_type": "code",
   "execution_count": 24,
   "metadata": {},
   "outputs": [
    {
     "data": {
      "text/plain": [
       "{'average_loss': 0.5242324,\n",
       " 'label/mean': -0.003160183,\n",
       " 'loss': 16.775436,\n",
       " 'prediction/mean': -0.019450217,\n",
       " 'global_step': 10000}"
      ]
     },
     "execution_count": 24,
     "metadata": {},
     "output_type": "execute_result"
    }
   ],
   "source": [
    "metricas_teste"
   ]
  },
  {
   "cell_type": "code",
   "execution_count": 25,
   "metadata": {},
   "outputs": [
    {
     "data": {
      "text/plain": [
       "array([[ 800],\n",
       "       [ 900],\n",
       "       [1000]])"
      ]
     },
     "execution_count": 25,
     "metadata": {},
     "output_type": "execute_result"
    }
   ],
   "source": [
    "import numpy as np\n",
    "novas_casas = np.array([[800], [900], [1000]])\n",
    "novas_casas"
   ]
  },
  {
   "cell_type": "code",
   "execution_count": 26,
   "metadata": {},
   "outputs": [
    {
     "data": {
      "text/plain": [
       "array([[-1.39358923],\n",
       "       [-1.28470655],\n",
       "       [-1.17582386]])"
      ]
     },
     "execution_count": 26,
     "metadata": {},
     "output_type": "execute_result"
    }
   ],
   "source": [
    "novas_casas = scaler_x.transform(novas_casas)\n",
    "novas_casas"
   ]
  },
  {
   "cell_type": "code",
   "execution_count": 27,
   "metadata": {},
   "outputs": [],
   "source": [
    "funcao_previsao = tf.estimator.inputs.numpy_input_fn({'x': novas_casas}, shuffle = False)"
   ]
  },
  {
   "cell_type": "code",
   "execution_count": 28,
   "metadata": {},
   "outputs": [],
   "source": [
    "previsoes = regressor.predict(input_fn = funcao_previsao)"
   ]
  },
  {
   "cell_type": "code",
   "execution_count": 29,
   "metadata": {},
   "outputs": [
    {
     "data": {
      "text/plain": [
       "<generator object Estimator.predict at 0x7fc86c375850>"
      ]
     },
     "execution_count": 29,
     "metadata": {},
     "output_type": "execute_result"
    }
   ],
   "source": [
    "previsoes"
   ]
  },
  {
   "cell_type": "code",
   "execution_count": 30,
   "metadata": {},
   "outputs": [
    {
     "name": "stdout",
     "output_type": "stream",
     "text": [
      "INFO:tensorflow:Calling model_fn.\n",
      "INFO:tensorflow:Done calling model_fn.\n",
      "INFO:tensorflow:Graph was finalized.\n",
      "INFO:tensorflow:Restoring parameters from /tmp/tmpv64ry3dc/model.ckpt-10000\n",
      "INFO:tensorflow:Running local_init_op.\n",
      "INFO:tensorflow:Done running local_init_op.\n"
     ]
    },
    {
     "data": {
      "text/plain": [
       "[{'predictions': array([-0.9733141], dtype=float32)},\n",
       " {'predictions': array([-0.89866996], dtype=float32)},\n",
       " {'predictions': array([-0.8240257], dtype=float32)}]"
      ]
     },
     "execution_count": 30,
     "metadata": {},
     "output_type": "execute_result"
    }
   ],
   "source": [
    "list(previsoes)"
   ]
  },
  {
   "cell_type": "code",
   "execution_count": 31,
   "metadata": {},
   "outputs": [
    {
     "name": "stdout",
     "output_type": "stream",
     "text": [
      "INFO:tensorflow:Calling model_fn.\n",
      "INFO:tensorflow:Done calling model_fn.\n",
      "INFO:tensorflow:Graph was finalized.\n",
      "INFO:tensorflow:Restoring parameters from /tmp/tmpv64ry3dc/model.ckpt-10000\n",
      "INFO:tensorflow:Running local_init_op.\n",
      "INFO:tensorflow:Done running local_init_op.\n",
      "[182766.33]\n",
      "[210169.58]\n",
      "[237572.89]\n"
     ]
    }
   ],
   "source": [
    "for p in regressor.predict(input_fn = funcao_previsao):\n",
    "    #print(p['predictions'])\n",
    "    print(scaler_y.inverse_transform(p['predictions']))"
   ]
  }
 ],
 "metadata": {
  "kernelspec": {
   "display_name": "Python 3",
   "language": "python",
   "name": "python3"
  },
  "language_info": {
   "codemirror_mode": {
    "name": "ipython",
    "version": 3
   },
   "file_extension": ".py",
   "mimetype": "text/x-python",
   "name": "python",
   "nbconvert_exporter": "python",
   "pygments_lexer": "ipython3",
   "version": "3.7.7"
  }
 },
 "nbformat": 4,
 "nbformat_minor": 2
}
